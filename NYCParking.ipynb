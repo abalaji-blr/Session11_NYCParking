{
  "nbformat": 4,
  "nbformat_minor": 0,
  "metadata": {
    "colab": {
      "name": "NYCParking.ipynb",
      "provenance": [],
      "collapsed_sections": [],
      "authorship_tag": "ABX9TyOJmuLQJpQaclxOwkFVsSca",
      "include_colab_link": true
    },
    "kernelspec": {
      "name": "python3",
      "display_name": "Python 3"
    },
    "language_info": {
      "name": "python"
    }
  },
  "cells": [
    {
      "cell_type": "markdown",
      "metadata": {
        "id": "view-in-github",
        "colab_type": "text"
      },
      "source": [
        "<a href=\"https://colab.research.google.com/github/abalaji-blr/Session11_NYCParking/blob/main/NYCParking.ipynb\" target=\"_parent\"><img src=\"https://colab.research.google.com/assets/colab-badge.svg\" alt=\"Open In Colab\"/></a>"
      ]
    },
    {
      "cell_type": "code",
      "execution_count": 99,
      "metadata": {
        "colab": {
          "base_uri": "https://localhost:8080/"
        },
        "id": "ehvj3wDI7DpP",
        "outputId": "1f68ca8d-8c77-4aac-e5bc-c558bbb2e46a"
      },
      "outputs": [
        {
          "output_type": "stream",
          "name": "stdout",
          "text": [
            "Mounted at /content/gdrive\n"
          ]
        }
      ],
      "source": [
        "from google.colab import drive\n",
        "drive.mount('/content/gdrive', force_remount=True)"
      ]
    },
    {
      "cell_type": "code",
      "source": [
        "import sys\n",
        "sys.path.append('/content/gdrive/MyDrive/Python/ParkingTicket')"
      ],
      "metadata": {
        "id": "K8r_wu4n7XIF"
      },
      "execution_count": 100,
      "outputs": []
    },
    {
      "cell_type": "markdown",
      "source": [
        "Goal 1: \n",
        "Create a lazy iterator that will return a namedtuple of the data in each row. The data type should be appropriate - if the column is date, you should be storing dates in the named tuple. If the field is integer, then it should be stored as integer. etc."
      ],
      "metadata": {
        "id": "8hEtFsVkC8ef"
      }
    },
    {
      "cell_type": "markdown",
      "source": [
        "Goal 2: Calculate the number of violations by car make."
      ],
      "metadata": {
        "id": "UNY2k0jjDdXx"
      }
    },
    {
      "cell_type": "markdown",
      "source": [
        "Note: Try to use lazy evaluation as much as possible - it may not be always possible though. That's OK, as long as it's kept to a minimum."
      ],
      "metadata": {
        "id": "FmrnihdxDkQA"
      }
    },
    {
      "cell_type": "code",
      "source": [
        "import csv\n",
        "from collections import namedtuple"
      ],
      "metadata": {
        "id": "jK3VySj4Ut9D"
      },
      "execution_count": 101,
      "outputs": []
    },
    {
      "cell_type": "code",
      "source": [
        "\n",
        "file='/content/gdrive/MyDrive/Python/ParkingTicket/nyc_parking_tickets_extract-1.csv'\n",
        "\n",
        "with open(file) as f:\n",
        "  print(next(f))\n",
        "  print(next(f))"
      ],
      "metadata": {
        "colab": {
          "base_uri": "https://localhost:8080/"
        },
        "id": "4puthb_d_9_-",
        "outputId": "985ebf2e-c4be-4f50-cb99-578b149afcd5"
      },
      "execution_count": 102,
      "outputs": [
        {
          "output_type": "stream",
          "name": "stdout",
          "text": [
            "Summons Number,Plate ID,Registration State,Plate Type,Issue Date,Violation Code,Vehicle Body Type,Vehicle Make,Violation Description\n",
            "\n",
            "4006478550,VAD7274,VA,PAS,10/5/2016,5,4D,BMW,BUS LANE VIOLATION\n",
            "\n"
          ]
        }
      ]
    },
    {
      "cell_type": "code",
      "source": [
        "def my_csv_reader(file):\n",
        "  with open(file) as f:\n",
        "    # process the header\n",
        "    hdr = next(f)\n",
        "    hdr.strip('\\n').split(',')\n",
        "    new_hdr =[ item.replace(' ', '_') for item in hdr.strip('\\n').split(',')]\n",
        "    yield new_hdr\n",
        "    #print(new_hdr)\n",
        "\n",
        "    # get the remaining lines\n",
        "    for row in f:\n",
        "      yield row\n"
      ],
      "metadata": {
        "id": "ZwHOJ0USmRiT"
      },
      "execution_count": 103,
      "outputs": []
    },
    {
      "cell_type": "code",
      "source": [
        "csv_gen  = my_csv_reader(file)\n",
        "hdr = next(csv_gen)\n",
        "print(hdr)\n",
        "\n",
        "# sample rows\n",
        "for _ in range(4):\n",
        "  row = next(csv_gen)\n",
        "  row_values = row.strip('\\n').split(',')\n",
        "  print(row_values)"
      ],
      "metadata": {
        "colab": {
          "base_uri": "https://localhost:8080/"
        },
        "id": "GkHLZSwEnqhY",
        "outputId": "9e6ba073-12ce-41dd-d36a-6f28b2e83531"
      },
      "execution_count": 104,
      "outputs": [
        {
          "output_type": "stream",
          "name": "stdout",
          "text": [
            "['Summons_Number', 'Plate_ID', 'Registration_State', 'Plate_Type', 'Issue_Date', 'Violation_Code', 'Vehicle_Body_Type', 'Vehicle_Make', 'Violation_Description']\n",
            "['4006478550', 'VAD7274', 'VA', 'PAS', '10/5/2016', '5', '4D', 'BMW', 'BUS LANE VIOLATION']\n",
            "['4006462396', '22834JK', 'NY', 'COM', '9/30/2016', '5', 'VAN', 'CHEVR', 'BUS LANE VIOLATION']\n",
            "['4007117810', '21791MG', 'NY', 'COM', '4/10/2017', '5', 'VAN', 'DODGE', 'BUS LANE VIOLATION']\n",
            "['4006265037', 'FZX9232', 'NY', 'PAS', '8/23/2016', '5', 'SUBN', 'FORD', 'BUS LANE VIOLATION']\n"
          ]
        }
      ]
    },
    {
      "cell_type": "markdown",
      "source": [
        "## Build parsers for the row values."
      ],
      "metadata": {
        "id": "M2P0Yt6-02fK"
      }
    },
    {
      "cell_type": "code",
      "source": [
        "from datetime import datetime"
      ],
      "metadata": {
        "id": "6GGsufda3xiY"
      },
      "execution_count": 105,
      "outputs": []
    },
    {
      "cell_type": "code",
      "source": [
        "def parse_int(value):\n",
        "  try:\n",
        "    return int(value)\n",
        "  except ValueError:\n",
        "    return None\n",
        "\n",
        "def parse_string(value):\n",
        "  try:\n",
        "    return str(value)\n",
        "  except ValueError:\n",
        "    return None\n",
        "\n",
        "def parse_date(value):\n",
        "  try:\n",
        "    date = datetime.strptime(value, '%m/%d/%Y').date()\n",
        "    #print(date)\n",
        "    return(date)\n",
        "  except ValueError:\n",
        "    return None\n"
      ],
      "metadata": {
        "id": "jbzfGSYa0_0e"
      },
      "execution_count": 106,
      "outputs": []
    },
    {
      "cell_type": "code",
      "source": [
        "print(parse_int('4006478550'))\n",
        "print(parse_string(123))\n",
        "print(parse_date('10/5/2016'))"
      ],
      "metadata": {
        "colab": {
          "base_uri": "https://localhost:8080/"
        },
        "id": "YH8CHUZgoSFJ",
        "outputId": "1f06b3a5-1caf-49be-c5c7-24d19de25168"
      },
      "execution_count": 107,
      "outputs": [
        {
          "output_type": "stream",
          "name": "stdout",
          "text": [
            "4006478550\n",
            "123\n",
            "2016-10-05\n"
          ]
        }
      ]
    },
    {
      "cell_type": "markdown",
      "source": [
        "## Build Row Parser"
      ],
      "metadata": {
        "id": "x5DdmFEX59Xf"
      }
    },
    {
      "cell_type": "code",
      "source": [
        "row_value_parser = (parse_int,\n",
        "                    parse_string,\n",
        "                    parse_string,\n",
        "                    parse_string,\n",
        "                    parse_date,\n",
        "                    parse_int,\n",
        "                    parse_string,\n",
        "                    parse_string,\n",
        "                    parse_string\n",
        "                    )"
      ],
      "metadata": {
        "id": "Lq-fRAJT5_gT"
      },
      "execution_count": 108,
      "outputs": []
    },
    {
      "cell_type": "markdown",
      "source": [
        "## Plug in Row Value Parser."
      ],
      "metadata": {
        "id": "UYXAPzVo65fD"
      }
    },
    {
      "cell_type": "code",
      "source": [
        "def my_csv_reader(file):\n",
        "  with open(file) as f:\n",
        "    # process the header\n",
        "    hdr = next(f)\n",
        "    hdr.strip('\\n').split(',')\n",
        "    new_hdr =[ item.replace(' ', '_') for item in hdr.strip('\\n').split(',')]\n",
        "    yield new_hdr\n",
        "    #print(new_hdr)\n",
        "\n",
        "    # get the remaining lines\n",
        "    for row in f:\n",
        "      row_values = row.strip('\\n').split(',')\n",
        "      parsed_row = [ func(value) for func, value in zip(row_value_parser, row_values)]\n",
        "      #print(parsed_row)\n",
        "      yield parsed_row"
      ],
      "metadata": {
        "id": "LKXnLBgs761t"
      },
      "execution_count": 109,
      "outputs": []
    },
    {
      "cell_type": "code",
      "source": [
        "csv_gen  = my_csv_reader(file)\n",
        "hdr = next(csv_gen)\n",
        "print(hdr)\n",
        "\n",
        "# sample rows\n",
        "for _ in range(4):\n",
        "  row = next(csv_gen)\n",
        "  print(row)"
      ],
      "metadata": {
        "colab": {
          "base_uri": "https://localhost:8080/"
        },
        "id": "KyRkWpU464Bi",
        "outputId": "f7f3ea67-8f7c-4c0a-a306-2e3d227bac51"
      },
      "execution_count": 110,
      "outputs": [
        {
          "output_type": "stream",
          "name": "stdout",
          "text": [
            "['Summons_Number', 'Plate_ID', 'Registration_State', 'Plate_Type', 'Issue_Date', 'Violation_Code', 'Vehicle_Body_Type', 'Vehicle_Make', 'Violation_Description']\n",
            "[4006478550, 'VAD7274', 'VA', 'PAS', datetime.date(2016, 10, 5), 5, '4D', 'BMW', 'BUS LANE VIOLATION']\n",
            "[4006462396, '22834JK', 'NY', 'COM', datetime.date(2016, 9, 30), 5, 'VAN', 'CHEVR', 'BUS LANE VIOLATION']\n",
            "[4007117810, '21791MG', 'NY', 'COM', datetime.date(2017, 4, 10), 5, 'VAN', 'DODGE', 'BUS LANE VIOLATION']\n",
            "[4006265037, 'FZX9232', 'NY', 'PAS', datetime.date(2016, 8, 23), 5, 'SUBN', 'FORD', 'BUS LANE VIOLATION']\n"
          ]
        }
      ]
    },
    {
      "cell_type": "markdown",
      "source": [
        "## Create Named tuple"
      ],
      "metadata": {
        "id": "IP8Hrpe58wDK"
      }
    },
    {
      "cell_type": "code",
      "source": [
        "Data = namedtuple('Data', hdr)\n",
        "\n",
        "for _ in range(10):\n",
        "  row = next(csv_gen)\n",
        "  data = Data._make(row)\n",
        "  print(data)"
      ],
      "metadata": {
        "colab": {
          "base_uri": "https://localhost:8080/"
        },
        "id": "NpQtdYhHRm_m",
        "outputId": "038681d2-72ea-40d6-8709-8bd7447340ee"
      },
      "execution_count": 111,
      "outputs": [
        {
          "output_type": "stream",
          "name": "stdout",
          "text": [
            "Data(Summons_Number=4006535600, Plate_ID='N203399C', Registration_State='NY', Plate_Type='OMT', Issue_Date=datetime.date(2016, 10, 19), Violation_Code=5, Vehicle_Body_Type='SUBN', Vehicle_Make='FORD', Violation_Description='BUS LANE VIOLATION')\n",
            "Data(Summons_Number=4007156700, Plate_ID='92163MG', Registration_State='NY', Plate_Type='COM', Issue_Date=datetime.date(2017, 4, 13), Violation_Code=5, Vehicle_Body_Type='VAN', Vehicle_Make='FRUEH', Violation_Description='BUS LANE VIOLATION')\n",
            "Data(Summons_Number=4006687989, Plate_ID='MIQ600', Registration_State='SC', Plate_Type='PAS', Issue_Date=datetime.date(2016, 11, 21), Violation_Code=5, Vehicle_Body_Type='VN', Vehicle_Make='HONDA', Violation_Description='BUS LANE VIOLATION')\n",
            "Data(Summons_Number=4006943052, Plate_ID='2AE3984', Registration_State='MD', Plate_Type='PAS', Issue_Date=datetime.date(2017, 2, 1), Violation_Code=5, Vehicle_Body_Type='SW', Vehicle_Make='LINCO', Violation_Description='BUS LANE VIOLATION')\n",
            "Data(Summons_Number=4007306795, Plate_ID='HLG4926', Registration_State='NY', Plate_Type='PAS', Issue_Date=datetime.date(2017, 5, 30), Violation_Code=5, Vehicle_Body_Type='SUBN', Vehicle_Make='TOYOT', Violation_Description='BUS LANE VIOLATION')\n",
            "Data(Summons_Number=4007124590, Plate_ID='T715907C', Registration_State='NY', Plate_Type='OMT', Issue_Date=datetime.date(2017, 4, 3), Violation_Code=5, Vehicle_Body_Type='SUBN', Vehicle_Make='TOYOT', Violation_Description='BUS LANE VIOLATION')\n",
            "Data(Summons_Number=5096061966, Plate_ID='HRC9475', Registration_State='NY', Plate_Type='PAS', Issue_Date=datetime.date(2017, 4, 18), Violation_Code=7, Vehicle_Body_Type='SUBN', Vehicle_Make='CADIL', Violation_Description='FAILURE TO STOP AT RED LIGHT')\n",
            "Data(Summons_Number=5094070400, Plate_ID='DYP8042', Registration_State='NY', Plate_Type='PAS', Issue_Date=datetime.date(2016, 10, 26), Violation_Code=7, Vehicle_Body_Type='SUBN', Vehicle_Make='CHEVR', Violation_Description='FAILURE TO STOP AT RED LIGHT')\n",
            "Data(Summons_Number=5094906770, Plate_ID='G30ESY', Registration_State='NJ', Plate_Type='PAS', Issue_Date=datetime.date(2017, 1, 1), Violation_Code=7, Vehicle_Body_Type='WAGO', Vehicle_Make='CHRYS', Violation_Description='FAILURE TO STOP AT RED LIGHT')\n",
            "Data(Summons_Number=5093319363, Plate_ID='GGT8868', Registration_State='NY', Plate_Type='PAS', Issue_Date=datetime.date(2016, 9, 6), Violation_Code=7, Vehicle_Body_Type='SUBN', Vehicle_Make='CHRYS', Violation_Description='FAILURE TO STOP AT RED LIGHT')\n"
          ]
        }
      ]
    },
    {
      "cell_type": "markdown",
      "source": [
        "## Putting all things together"
      ],
      "metadata": {
        "id": "XDz07zIp8485"
      }
    },
    {
      "cell_type": "code",
      "source": [
        "\n",
        "## to convert the input str data to relevant types\n",
        "def parse_int(value):\n",
        "  try:\n",
        "    return int(value)\n",
        "  except ValueError:\n",
        "    return None\n",
        "\n",
        "def parse_string(value):\n",
        "  try:\n",
        "    return str(value)\n",
        "  except ValueError:\n",
        "    return None\n",
        "\n",
        "def parse_date(value):\n",
        "  try:\n",
        "    date = datetime.strptime(value, '%m/%d/%Y').date()\n",
        "    #print(date)\n",
        "    return(date)\n",
        "  except ValueError:\n",
        "    return None\n",
        "\n",
        "\n",
        "row_value_parser = (parse_int,\n",
        "                    parse_string,\n",
        "                    parse_string,\n",
        "                    parse_string,\n",
        "                    parse_date,\n",
        "                    parse_int,\n",
        "                    parse_string,\n",
        "                    parse_string,\n",
        "                    parse_string\n",
        "                    )\n",
        "\n",
        "def my_csv_reader(file):\n",
        "  '''\n",
        "  CSV reader to read nyc parking ticket file.\n",
        "  '''\n",
        "  with open(file) as f:\n",
        "    # process the header\n",
        "    hdr = next(f)\n",
        "    hdr.strip('\\n').split(',')\n",
        "    new_hdr =[ item.replace(' ', '_') for item in hdr.strip('\\n').split(',')]\n",
        "    yield new_hdr\n",
        "\n",
        "    # get the remaining lines\n",
        "    for row in f:\n",
        "      row_values = row.strip('\\n').split(',')\n",
        "      parsed_row = [ func(value) for func, value in zip(row_value_parser, row_values)]\n",
        "      yield parsed_row\n",
        "\n",
        "# read the csv file!\n",
        "csv_gen  = my_csv_reader(file)\n",
        "hdr = next(csv_gen)\n",
        "\n",
        "# create namedtuple data\n",
        "Data = namedtuple('Data', hdr)\n",
        "\n",
        "for _ in range(10):\n",
        "  row = next(csv_gen)\n",
        "  data = Data._make(row)\n",
        "  print(data)"
      ],
      "metadata": {
        "colab": {
          "base_uri": "https://localhost:8080/"
        },
        "id": "HueNbdMKS8uR",
        "outputId": "14b46788-df90-4edc-ab86-9afe3ee64b3a"
      },
      "execution_count": 112,
      "outputs": [
        {
          "output_type": "stream",
          "name": "stdout",
          "text": [
            "Data(Summons_Number=4006478550, Plate_ID='VAD7274', Registration_State='VA', Plate_Type='PAS', Issue_Date=datetime.date(2016, 10, 5), Violation_Code=5, Vehicle_Body_Type='4D', Vehicle_Make='BMW', Violation_Description='BUS LANE VIOLATION')\n",
            "Data(Summons_Number=4006462396, Plate_ID='22834JK', Registration_State='NY', Plate_Type='COM', Issue_Date=datetime.date(2016, 9, 30), Violation_Code=5, Vehicle_Body_Type='VAN', Vehicle_Make='CHEVR', Violation_Description='BUS LANE VIOLATION')\n",
            "Data(Summons_Number=4007117810, Plate_ID='21791MG', Registration_State='NY', Plate_Type='COM', Issue_Date=datetime.date(2017, 4, 10), Violation_Code=5, Vehicle_Body_Type='VAN', Vehicle_Make='DODGE', Violation_Description='BUS LANE VIOLATION')\n",
            "Data(Summons_Number=4006265037, Plate_ID='FZX9232', Registration_State='NY', Plate_Type='PAS', Issue_Date=datetime.date(2016, 8, 23), Violation_Code=5, Vehicle_Body_Type='SUBN', Vehicle_Make='FORD', Violation_Description='BUS LANE VIOLATION')\n",
            "Data(Summons_Number=4006535600, Plate_ID='N203399C', Registration_State='NY', Plate_Type='OMT', Issue_Date=datetime.date(2016, 10, 19), Violation_Code=5, Vehicle_Body_Type='SUBN', Vehicle_Make='FORD', Violation_Description='BUS LANE VIOLATION')\n",
            "Data(Summons_Number=4007156700, Plate_ID='92163MG', Registration_State='NY', Plate_Type='COM', Issue_Date=datetime.date(2017, 4, 13), Violation_Code=5, Vehicle_Body_Type='VAN', Vehicle_Make='FRUEH', Violation_Description='BUS LANE VIOLATION')\n",
            "Data(Summons_Number=4006687989, Plate_ID='MIQ600', Registration_State='SC', Plate_Type='PAS', Issue_Date=datetime.date(2016, 11, 21), Violation_Code=5, Vehicle_Body_Type='VN', Vehicle_Make='HONDA', Violation_Description='BUS LANE VIOLATION')\n",
            "Data(Summons_Number=4006943052, Plate_ID='2AE3984', Registration_State='MD', Plate_Type='PAS', Issue_Date=datetime.date(2017, 2, 1), Violation_Code=5, Vehicle_Body_Type='SW', Vehicle_Make='LINCO', Violation_Description='BUS LANE VIOLATION')\n",
            "Data(Summons_Number=4007306795, Plate_ID='HLG4926', Registration_State='NY', Plate_Type='PAS', Issue_Date=datetime.date(2017, 5, 30), Violation_Code=5, Vehicle_Body_Type='SUBN', Vehicle_Make='TOYOT', Violation_Description='BUS LANE VIOLATION')\n",
            "Data(Summons_Number=4007124590, Plate_ID='T715907C', Registration_State='NY', Plate_Type='OMT', Issue_Date=datetime.date(2017, 4, 3), Violation_Code=5, Vehicle_Body_Type='SUBN', Vehicle_Make='TOYOT', Violation_Description='BUS LANE VIOLATION')\n"
          ]
        }
      ]
    },
    {
      "cell_type": "markdown",
      "source": [
        "## Goal 2: Calculate the number of violations by car make."
      ],
      "metadata": {
        "id": "nTxwwOD0UWR9"
      }
    },
    {
      "cell_type": "code",
      "source": [
        "def my_csv_reader2(file):\n",
        "  '''\n",
        "  CSV reader to read nyc parking ticket file.\n",
        "  '''\n",
        "  with open(file) as f:\n",
        "    # process the header\n",
        "    hdr = next(f)\n",
        "    hdr.strip('\\n').split(',')\n",
        "    new_hdr =[ item.replace(' ', '_') for item in hdr.strip('\\n').split(',')]\n",
        "\n",
        "    # get the remaining lines\n",
        "    for row in f:\n",
        "      row_values = row.strip('\\n').split(',')\n",
        "      parsed_row = [ func(value) for func, value in zip(row_value_parser, row_values)]\n",
        "      yield zip(new_hdr, parsed_row)"
      ],
      "metadata": {
        "id": "WPfwylnO_7UV"
      },
      "execution_count": 113,
      "outputs": []
    },
    {
      "cell_type": "code",
      "source": [
        "csv_gen = my_csv_reader2(file)"
      ],
      "metadata": {
        "id": "z5OWhKEMA-GE"
      },
      "execution_count": 114,
      "outputs": []
    },
    {
      "cell_type": "code",
      "source": [
        "for _ in range(4):\n",
        "  print(list(next(csv_gen)))"
      ],
      "metadata": {
        "colab": {
          "base_uri": "https://localhost:8080/"
        },
        "id": "ZtxzDoEhBCfw",
        "outputId": "da9c391d-b624-4577-a5f2-df4481529776"
      },
      "execution_count": 115,
      "outputs": [
        {
          "output_type": "stream",
          "name": "stdout",
          "text": [
            "[('Summons_Number', 4006478550), ('Plate_ID', 'VAD7274'), ('Registration_State', 'VA'), ('Plate_Type', 'PAS'), ('Issue_Date', datetime.date(2016, 10, 5)), ('Violation_Code', 5), ('Vehicle_Body_Type', '4D'), ('Vehicle_Make', 'BMW'), ('Violation_Description', 'BUS LANE VIOLATION')]\n",
            "[('Summons_Number', 4006462396), ('Plate_ID', '22834JK'), ('Registration_State', 'NY'), ('Plate_Type', 'COM'), ('Issue_Date', datetime.date(2016, 9, 30)), ('Violation_Code', 5), ('Vehicle_Body_Type', 'VAN'), ('Vehicle_Make', 'CHEVR'), ('Violation_Description', 'BUS LANE VIOLATION')]\n",
            "[('Summons_Number', 4007117810), ('Plate_ID', '21791MG'), ('Registration_State', 'NY'), ('Plate_Type', 'COM'), ('Issue_Date', datetime.date(2017, 4, 10)), ('Violation_Code', 5), ('Vehicle_Body_Type', 'VAN'), ('Vehicle_Make', 'DODGE'), ('Violation_Description', 'BUS LANE VIOLATION')]\n",
            "[('Summons_Number', 4006265037), ('Plate_ID', 'FZX9232'), ('Registration_State', 'NY'), ('Plate_Type', 'PAS'), ('Issue_Date', datetime.date(2016, 8, 23)), ('Violation_Code', 5), ('Vehicle_Body_Type', 'SUBN'), ('Vehicle_Make', 'FORD'), ('Violation_Description', 'BUS LANE VIOLATION')]\n"
          ]
        }
      ]
    },
    {
      "cell_type": "code",
      "source": [
        "for _ in range(4):\n",
        "  print(list(next(csv_gen))[7])"
      ],
      "metadata": {
        "colab": {
          "base_uri": "https://localhost:8080/"
        },
        "id": "pos69tEffsJk",
        "outputId": "1d87abe1-1913-4c9f-aec2-b4efc0a6f789"
      },
      "execution_count": 116,
      "outputs": [
        {
          "output_type": "stream",
          "name": "stdout",
          "text": [
            "('Vehicle_Make', 'FORD')\n",
            "('Vehicle_Make', 'FRUEH')\n",
            "('Vehicle_Make', 'HONDA')\n",
            "('Vehicle_Make', 'LINCO')\n"
          ]
        }
      ]
    },
    {
      "cell_type": "code",
      "source": [
        "violations_cnt = {}\n",
        "\n",
        "csv_gen = my_csv_reader2(file)\n",
        "for _ in csv_gen:\n",
        "  row = list(next(csv_gen))\n",
        "  car_make = row[7][1]\n",
        "  #print(row[7])\n",
        "  if car_make in violations_cnt:\n",
        "    violations_cnt[car_make] += 1\n",
        "  else:\n",
        "    violations_cnt[car_make] = 1\n"
      ],
      "metadata": {
        "id": "NtfSm4YQgLHw"
      },
      "execution_count": 120,
      "outputs": []
    },
    {
      "cell_type": "code",
      "source": [
        "violations_cnt"
      ],
      "metadata": {
        "colab": {
          "base_uri": "https://localhost:8080/"
        },
        "id": "fiP04lf3hWzy",
        "outputId": "a89a034c-31bd-4c9b-faad-ee2debde40c3"
      },
      "execution_count": 118,
      "outputs": [
        {
          "output_type": "execute_result",
          "data": {
            "text/plain": [
              "{'': 1,\n",
              " 'ACURA': 7,\n",
              " 'AM/T': 1,\n",
              " 'AUDI': 7,\n",
              " 'BMW': 15,\n",
              " 'BUICK': 3,\n",
              " 'CADIL': 4,\n",
              " 'CHEVR': 40,\n",
              " 'CHRYS': 7,\n",
              " 'DODGE': 21,\n",
              " 'FIR': 1,\n",
              " 'FORD': 51,\n",
              " 'FRUEH': 21,\n",
              " 'GMC': 18,\n",
              " 'HIN': 5,\n",
              " 'HINO': 1,\n",
              " 'HONDA': 51,\n",
              " 'HYUND': 18,\n",
              " 'INFIN': 6,\n",
              " 'INTER': 11,\n",
              " 'ISUZU': 4,\n",
              " 'JAGUA': 3,\n",
              " 'JEEP': 11,\n",
              " 'KENWO': 3,\n",
              " 'KIA': 3,\n",
              " 'LEXUS': 13,\n",
              " 'LINCO': 6,\n",
              " 'MAZDA': 2,\n",
              " 'ME/BE': 18,\n",
              " 'MERCU': 3,\n",
              " 'MI/F': 1,\n",
              " 'MINI': 1,\n",
              " 'MITSU': 4,\n",
              " 'NISSA': 34,\n",
              " 'NS/OT': 9,\n",
              " 'OLDSM': 1,\n",
              " 'PETER': 1,\n",
              " 'PLYMO': 1,\n",
              " 'PORSC': 1,\n",
              " 'ROVER': 2,\n",
              " 'SAAB': 1,\n",
              " 'SATUR': 2,\n",
              " 'SCION': 1,\n",
              " 'SMART': 2,\n",
              " 'SPRI': 1,\n",
              " 'STAR': 1,\n",
              " 'SUBAR': 10,\n",
              " 'TOYOT': 54,\n",
              " 'UD': 1,\n",
              " 'UPS': 1,\n",
              " 'VOLKS': 4,\n",
              " 'VOLVO': 6,\n",
              " 'WORKH': 1,\n",
              " 'YAMAH': 1}"
            ]
          },
          "metadata": {},
          "execution_count": 118
        }
      ]
    },
    {
      "cell_type": "code",
      "source": [
        "sum(violations_cnt.values())"
      ],
      "metadata": {
        "colab": {
          "base_uri": "https://localhost:8080/"
        },
        "id": "wiS_C97ihdJK",
        "outputId": "d70f3ea4-84f3-4dd4-d87d-5ecece01ec73"
      },
      "execution_count": 121,
      "outputs": [
        {
          "output_type": "execute_result",
          "data": {
            "text/plain": [
              "500"
            ]
          },
          "metadata": {},
          "execution_count": 121
        }
      ]
    }
  ]
}